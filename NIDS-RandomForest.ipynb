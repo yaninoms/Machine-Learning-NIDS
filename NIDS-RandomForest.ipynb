{
 "cells": [
  {
   "cell_type": "code",
   "execution_count": null,
   "id": "4739a82f-6890-4ede-887e-5d15a9187d28",
   "metadata": {},
   "outputs": [],
   "source": [
    "from sklearn.ensemble import RandomForestClassifier\n",
    "from sklearn.model_selection import train_test_split\n",
    "from sklearn.metrics import confusion_matrix, classification_report, accuracy_score, precision_recall_curve, average_precision_score\n",
    "import pandas as pd\n",
    "import seaborn as sns\n",
    "import matplotlib.pyplot as plt\n",
    "import numpy as np\n",
    "\n",
    "# Load your dataset\n",
    "df = pd.read_csv(\"CICIDS2017_FINAL.csv\")\n",
    "X = df.drop(columns=['Ground_Label', ' Label'])  # Feature columns\n",
    "y = df['Ground_Label']  # Target variable\n",
    "\n",
    "# Step 1: Handle missing or infinite values in X\n",
    "X = X.fillna(X.mean())# Replace NaN with column mean and infinity with 0\n",
    "X.replace([float('inf'), float('-inf')], 0, inplace=True)\n",
    "\n",
    "# Split the data into training and testing sets\n",
    "X_train, X_test, y_train, y_test = train_test_split(X, y, test_size=0.2, random_state=42)\n",
    "\n",
    "# Initialize the Random Forest model\n",
    "rf_model = RandomForestClassifier(n_estimators=100, random_state=42)\n",
    "\n",
    "# Train the model\n",
    "rf_model.fit(X_train, y_train)\n",
    "\n",
    "# Make predictions on the test set\n",
    "y_pred = rf_model.predict(X_test)\n",
    "\n",
    "# Evaluate the model\n",
    "accuracy = accuracy_score(y_test, y_pred)\n",
    "print(f\"Accuracy: {accuracy:.4f}\")\n",
    "\n",
    "# Print the classification report for precision, recall, and F1-score\n",
    "print(\"\\nClassification Report:\")\n",
    "print(classification_report(y_test, y_pred, target_names=['0', '1', '2', '3']))\n",
    "\n",
    "# 1. Confusion Matrix\n",
    "conf_matrix = confusion_matrix(y_test, y_pred)\n",
    "plt.figure(figsize=(8, 6))\n",
    "sns.heatmap(conf_matrix, annot=True, fmt='d', cmap='Blues', xticklabels=['Benign', 'DDoS', 'PortScan','Bot'], yticklabels=['Benign', 'DDoS', 'PortScan','Bot'])\n",
    "plt.title('Confusion Matrix')\n",
    "plt.xlabel('Predicted Label')\n",
    "plt.ylabel('True Label')\n",
    "plt.show()\n",
    "\n"
   ]
  },
  {
   "cell_type": "code",
   "execution_count": 3,
   "id": "0d5f9406-be4f-4770-b46d-869e915489d0",
   "metadata": {},
   "outputs": [
    {
     "name": "stdout",
     "output_type": "stream",
     "text": [
      "Cross-validation scores:  [0.97316358 0.99568939 0.99193191 0.99796867 0.98981475]\n",
      "Mean accuracy:  0.9897136590134231\n",
      "Standard deviation of accuracy:  0.008748606309793516\n"
     ]
    }
   ],
   "source": [
    "from sklearn.model_selection import cross_val_score\n",
    "from sklearn.tree import DecisionTreeClassifier\n",
    "from sklearn.metrics import make_scorer\n",
    "\n",
    "# Assuming you have already split your data into X and y\n",
    "# X - feature data, y - target labels (Ground_Label)\n",
    "\n",
    "# Initialize the Decision Tree model\n",
    "dt = DecisionTreeClassifier(random_state=42)\n",
    "\n",
    "# Perform 5-fold cross-validation and return the scores (accuracy)\n",
    "cv_scores = cross_val_score(dt, X, y, cv=5, scoring='accuracy')\n",
    "\n",
    "# Print the cross-validation scores for each fold\n",
    "print(\"Cross-validation scores: \", cv_scores)\n",
    "\n",
    "# Calculate the mean and standard deviation of the accuracy scores\n",
    "print(\"Mean accuracy: \", cv_scores.mean())\n",
    "print(\"Standard deviation of accuracy: \", cv_scores.std())"
   ]
  },
  {
   "cell_type": "code",
   "execution_count": null,
   "id": "af8ff0d0-f25a-4c07-9521-ee5db6c58fb1",
   "metadata": {},
   "outputs": [],
   "source": []
  }
 ],
 "metadata": {
  "kernelspec": {
   "display_name": "Python 3",
   "language": "python",
   "name": "python3"
  },
  "language_info": {
   "codemirror_mode": {
    "name": "ipython",
    "version": 3
   },
   "file_extension": ".py",
   "mimetype": "text/x-python",
   "name": "python",
   "nbconvert_exporter": "python",
   "pygments_lexer": "ipython3",
   "version": "3.13.0"
  }
 },
 "nbformat": 4,
 "nbformat_minor": 5
}
